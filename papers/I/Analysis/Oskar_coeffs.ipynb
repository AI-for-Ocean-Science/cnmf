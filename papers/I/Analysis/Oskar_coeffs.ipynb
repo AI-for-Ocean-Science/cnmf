{
 "cells": [
  {
   "cell_type": "markdown",
   "id": "316ad7ed-f900-4e83-9f31-3ddfe56ab09c",
   "metadata": {},
   "source": [
    "# Coeffs for Oskar"
   ]
  },
  {
   "cell_type": "code",
   "execution_count": 3,
   "id": "630e85aa-1271-48f5-bab0-2959c3106d03",
   "metadata": {},
   "outputs": [],
   "source": [
    "# imports\n",
    "from importlib import reload\n",
    "\n",
    "import matplotlib.pyplot as plt\n",
    "import numpy as np\n",
    "from datetime import datetime, time\n",
    "#import random \n",
    "\n",
    "import pandas\n",
    "\n",
    "from oceancolor.tara import io as tara_io\n",
    "\n",
    "from cnmf.oceanography import iops\n",
    "from cnmf import io as cnmf_io"
   ]
  },
  {
   "cell_type": "markdown",
   "id": "eadfb438-6e62-4f7b-8549-da89b63bd253",
   "metadata": {},
   "source": [
    "# Load me"
   ]
  },
  {
   "cell_type": "markdown",
   "id": "2bb864ed-4923-4df6-87a7-770c09d2a635",
   "metadata": {},
   "source": [
    "## Loisel"
   ]
  },
  {
   "cell_type": "code",
   "execution_count": 4,
   "id": "3a69e365-6eb9-4d68-8151-5cdd3e29e356",
   "metadata": {},
   "outputs": [
    {
     "name": "stdout",
     "output_type": "stream",
     "text": [
      "Loading: /home/xavier/Projects/Oceanography/python/cnmf/cnmf/data/L23/L23_NMF_03_a.npz\n"
     ]
    }
   ],
   "source": [
    "nmf_fit = 'L23'\n",
    "Ncomp = 3\n",
    "d = cnmf_io.load_nmf(nmf_fit, Ncomp, 'a')"
   ]
  },
  {
   "cell_type": "code",
   "execution_count": 6,
   "id": "05e0bcc4-2a9e-4ccd-9d89-122acdff5221",
   "metadata": {},
   "outputs": [
    {
     "data": {
      "text/plain": [
       "(3320, 3)"
      ]
     },
     "execution_count": 6,
     "metadata": {},
     "output_type": "execute_result"
    }
   ],
   "source": [
    "coeff = d['coeff']\n",
    "coeff.shape"
   ]
  },
  {
   "cell_type": "markdown",
   "id": "57eadf29-5f7b-4a3b-adca-2b4bf34fc321",
   "metadata": {},
   "source": [
    "## Tara"
   ]
  },
  {
   "cell_type": "code",
   "execution_count": null,
   "id": "0bd044f1-75b7-401e-81a3-ce01d5f48db0",
   "metadata": {},
   "outputs": [],
   "source": []
  }
 ],
 "metadata": {
  "kernelspec": {
   "display_name": "Python 3 (ipykernel)",
   "language": "python",
   "name": "python3"
  },
  "language_info": {
   "codemirror_mode": {
    "name": "ipython",
    "version": 3
   },
   "file_extension": ".py",
   "mimetype": "text/x-python",
   "name": "python",
   "nbconvert_exporter": "python",
   "pygments_lexer": "ipython3",
   "version": "3.11.6"
  }
 },
 "nbformat": 4,
 "nbformat_minor": 5
}
