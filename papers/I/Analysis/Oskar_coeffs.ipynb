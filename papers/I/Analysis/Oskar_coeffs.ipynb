{
 "cells": [
  {
   "cell_type": "markdown",
   "id": "316ad7ed-f900-4e83-9f31-3ddfe56ab09c",
   "metadata": {},
   "source": [
    "# Coeffs for Oskar"
   ]
  },
  {
   "cell_type": "code",
   "execution_count": 11,
   "id": "630e85aa-1271-48f5-bab0-2959c3106d03",
   "metadata": {},
   "outputs": [],
   "source": [
    "# imports\n",
    "from importlib import reload\n",
    "\n",
    "import matplotlib.pyplot as plt\n",
    "import numpy as np\n",
    "from datetime import datetime, time\n",
    "#import random \n",
    "\n",
    "import pandas\n",
    "\n",
    "from oceancolor.tara import io as tara_io\n",
    "from oceancolor.utils import cat_utils\n",
    "\n",
    "from cnmf.oceanography import iops\n",
    "from cnmf import io as cnmf_io"
   ]
  },
  {
   "cell_type": "markdown",
   "id": "eadfb438-6e62-4f7b-8549-da89b63bd253",
   "metadata": {},
   "source": [
    "# Load me"
   ]
  },
  {
   "cell_type": "markdown",
   "id": "2bb864ed-4923-4df6-87a7-770c09d2a635",
   "metadata": {},
   "source": [
    "## Loisel"
   ]
  },
  {
   "cell_type": "code",
   "execution_count": 4,
   "id": "3a69e365-6eb9-4d68-8151-5cdd3e29e356",
   "metadata": {},
   "outputs": [
    {
     "name": "stdout",
     "output_type": "stream",
     "text": [
      "Loading: /home/xavier/Projects/Oceanography/python/cnmf/cnmf/data/L23/L23_NMF_03_a.npz\n"
     ]
    }
   ],
   "source": [
    "nmf_fit = 'L23'\n",
    "Ncomp = 3\n",
    "d = cnmf_io.load_nmf(nmf_fit, Ncomp, 'a')"
   ]
  },
  {
   "cell_type": "code",
   "execution_count": 6,
   "id": "05e0bcc4-2a9e-4ccd-9d89-122acdff5221",
   "metadata": {},
   "outputs": [
    {
     "data": {
      "text/plain": [
       "(3320, 3)"
      ]
     },
     "execution_count": 6,
     "metadata": {},
     "output_type": "execute_result"
    }
   ],
   "source": [
    "coeff = d['coeff']\n",
    "coeff.shape"
   ]
  },
  {
   "cell_type": "markdown",
   "id": "57eadf29-5f7b-4a3b-adca-2b4bf34fc321",
   "metadata": {},
   "source": [
    "## Tara"
   ]
  },
  {
   "cell_type": "code",
   "execution_count": 7,
   "id": "0bd044f1-75b7-401e-81a3-ce01d5f48db0",
   "metadata": {},
   "outputs": [
    {
     "name": "stdout",
     "output_type": "stream",
     "text": [
      "Loading: /home/xavier/Projects/Oceanography/python/cnmf/cnmf/data/Tara/Tara_NMF_03_a.npz\n"
     ]
    }
   ],
   "source": [
    "nmf_fit = 'Tara'\n",
    "N_NMF = 3\n",
    "d_tara = cnmf_io.load_nmf(nmf_fit, N_NMF, 'a')"
   ]
  },
  {
   "cell_type": "code",
   "execution_count": 8,
   "id": "6b3187b9-6913-46c7-a103-68cff5dbdf27",
   "metadata": {},
   "outputs": [
    {
     "data": {
      "text/plain": [
       "array([1609011540000000000, 1609011600000000000, 1609011660000000000, ...,\n",
       "       1657176120000000000, 1657176180000000000, 1657176240000000000])"
      ]
     },
     "execution_count": 8,
     "metadata": {},
     "output_type": "execute_result"
    }
   ],
   "source": [
    "d_tara['UID']"
   ]
  },
  {
   "cell_type": "markdown",
   "id": "efc001c4-ac0e-4626-80d1-aa8090adc106",
   "metadata": {},
   "source": [
    "# Load Tara db"
   ]
  },
  {
   "cell_type": "code",
   "execution_count": 10,
   "id": "07e3ace7-983b-47ae-b69b-ac0cc8718f0f",
   "metadata": {},
   "outputs": [
    {
     "name": "stdout",
     "output_type": "stream",
     "text": [
      "Reading: /home/xavier/Projects/Oceanography/python/ocean-color/oceancolor/data/Tara/merged_tara_pacific_microbiome_acs_160124.feather\n"
     ]
    },
    {
     "name": "stderr",
     "output_type": "stream",
     "text": [
      "/home/xavier/Projects/Oceanography/python/ocean-color/oceancolor/tara/io.py:83: UserWarning: Duplicate times in Tara Oceans database\n",
      "  warnings.warn(\"Duplicate times in Tara Oceans database\")\n"
     ]
    },
    {
     "name": "stdout",
     "output_type": "stream",
     "text": [
      "Using bit_flags removes 127034 rows of a total 774298\n"
     ]
    }
   ],
   "source": [
    "tara_df = tara_io.load_pg_db()"
   ]
  },
  {
   "cell_type": "code",
   "execution_count": 14,
   "id": "212890e7-b678-4b0f-b314-5b06b70fe38d",
   "metadata": {},
   "outputs": [
    {
     "data": {
      "text/html": [
       "<div>\n",
       "<style scoped>\n",
       "    .dataframe tbody tr th:only-of-type {\n",
       "        vertical-align: middle;\n",
       "    }\n",
       "\n",
       "    .dataframe tbody tr th {\n",
       "        vertical-align: top;\n",
       "    }\n",
       "\n",
       "    .dataframe thead th {\n",
       "        text-align: right;\n",
       "    }\n",
       "</style>\n",
       "<table border=\"1\" class=\"dataframe\">\n",
       "  <thead>\n",
       "    <tr style=\"text-align: right;\">\n",
       "      <th></th>\n",
       "      <th>dt</th>\n",
       "      <th>lat</th>\n",
       "      <th>lon</th>\n",
       "      <th>t</th>\n",
       "      <th>s</th>\n",
       "      <th>ad_model400</th>\n",
       "      <th>agaus406</th>\n",
       "      <th>agaus434</th>\n",
       "      <th>agaus453</th>\n",
       "      <th>agaus470</th>\n",
       "      <th>...</th>\n",
       "      <th>hbb_bbp_25</th>\n",
       "      <th>hbb_bbp_26</th>\n",
       "      <th>hbb_bbp_27</th>\n",
       "      <th>hbb_bbp_28</th>\n",
       "      <th>fdom_sd</th>\n",
       "      <th>fdom_sensor</th>\n",
       "      <th>geometry</th>\n",
       "      <th>uid</th>\n",
       "      <th>mission_id</th>\n",
       "      <th>passes_flags</th>\n",
       "    </tr>\n",
       "    <tr>\n",
       "      <th>utc_dt</th>\n",
       "      <th></th>\n",
       "      <th></th>\n",
       "      <th></th>\n",
       "      <th></th>\n",
       "      <th></th>\n",
       "      <th></th>\n",
       "      <th></th>\n",
       "      <th></th>\n",
       "      <th></th>\n",
       "      <th></th>\n",
       "      <th></th>\n",
       "      <th></th>\n",
       "      <th></th>\n",
       "      <th></th>\n",
       "      <th></th>\n",
       "      <th></th>\n",
       "      <th></th>\n",
       "      <th></th>\n",
       "      <th></th>\n",
       "      <th></th>\n",
       "      <th></th>\n",
       "    </tr>\n",
       "  </thead>\n",
       "  <tbody>\n",
       "    <tr>\n",
       "      <th>2016-05-30 07:05:00</th>\n",
       "      <td>30-May-2016 07:05:00</td>\n",
       "      <td>45.673750</td>\n",
       "      <td>-8.814967</td>\n",
       "      <td>15.5537</td>\n",
       "      <td>35.5332</td>\n",
       "      <td>0.000000</td>\n",
       "      <td>0.007691</td>\n",
       "      <td>0.005692</td>\n",
       "      <td>0.004222</td>\n",
       "      <td>0.003370</td>\n",
       "      <td>...</td>\n",
       "      <td>NaN</td>\n",
       "      <td>NaN</td>\n",
       "      <td>NaN</td>\n",
       "      <td>NaN</td>\n",
       "      <td>NaN</td>\n",
       "      <td>None</td>\n",
       "      <td>b'\\x01\\x01\\x00\\x00\\x00K\\xd9\\x9bOC\\xa1!\\xc0\\xe1...</td>\n",
       "      <td>1464591900000000000</td>\n",
       "      <td>0</td>\n",
       "      <td>True</td>\n",
       "    </tr>\n",
       "    <tr>\n",
       "      <th>2016-05-30 07:06:00</th>\n",
       "      <td>30-May-2016 07:06:00</td>\n",
       "      <td>45.672600</td>\n",
       "      <td>-8.816917</td>\n",
       "      <td>15.5490</td>\n",
       "      <td>35.5332</td>\n",
       "      <td>0.000817</td>\n",
       "      <td>0.006569</td>\n",
       "      <td>0.005500</td>\n",
       "      <td>0.003743</td>\n",
       "      <td>0.003245</td>\n",
       "      <td>...</td>\n",
       "      <td>NaN</td>\n",
       "      <td>NaN</td>\n",
       "      <td>NaN</td>\n",
       "      <td>NaN</td>\n",
       "      <td>NaN</td>\n",
       "      <td>None</td>\n",
       "      <td>b'\\x01\\x01\\x00\\x00\\x00 b\\xbf\\xe6B\\xa2!\\xc0\\xeb...</td>\n",
       "      <td>1464591960000000000</td>\n",
       "      <td>0</td>\n",
       "      <td>True</td>\n",
       "    </tr>\n",
       "    <tr>\n",
       "      <th>2016-05-30 07:07:00</th>\n",
       "      <td>30-May-2016 07:07:00</td>\n",
       "      <td>45.671500</td>\n",
       "      <td>-8.819000</td>\n",
       "      <td>15.5370</td>\n",
       "      <td>35.5330</td>\n",
       "      <td>0.000000</td>\n",
       "      <td>0.008018</td>\n",
       "      <td>0.005824</td>\n",
       "      <td>0.004188</td>\n",
       "      <td>0.003485</td>\n",
       "      <td>...</td>\n",
       "      <td>NaN</td>\n",
       "      <td>NaN</td>\n",
       "      <td>NaN</td>\n",
       "      <td>NaN</td>\n",
       "      <td>NaN</td>\n",
       "      <td>None</td>\n",
       "      <td>b'\\x01\\x01\\x00\\x00\\x00$y\\xd2\\xf7S\\xa3!\\xc0;)E\\...</td>\n",
       "      <td>1464592020000000000</td>\n",
       "      <td>0</td>\n",
       "      <td>True</td>\n",
       "    </tr>\n",
       "    <tr>\n",
       "      <th>2016-05-30 07:08:00</th>\n",
       "      <td>30-May-2016 07:08:00</td>\n",
       "      <td>45.670400</td>\n",
       "      <td>-8.821117</td>\n",
       "      <td>15.5385</td>\n",
       "      <td>35.5330</td>\n",
       "      <td>0.000000</td>\n",
       "      <td>0.008432</td>\n",
       "      <td>0.006026</td>\n",
       "      <td>0.004189</td>\n",
       "      <td>0.003642</td>\n",
       "      <td>...</td>\n",
       "      <td>NaN</td>\n",
       "      <td>NaN</td>\n",
       "      <td>NaN</td>\n",
       "      <td>NaN</td>\n",
       "      <td>NaN</td>\n",
       "      <td>None</td>\n",
       "      <td>b'\\x01\\x01\\x00\\x00\\x00X\\x9a]gi\\xa4!\\xc0*Q\\xcd\\...</td>\n",
       "      <td>1464592080000000000</td>\n",
       "      <td>0</td>\n",
       "      <td>True</td>\n",
       "    </tr>\n",
       "    <tr>\n",
       "      <th>2016-05-30 07:09:00</th>\n",
       "      <td>30-May-2016 07:09:00</td>\n",
       "      <td>45.669383</td>\n",
       "      <td>-8.823250</td>\n",
       "      <td>15.5483</td>\n",
       "      <td>35.5329</td>\n",
       "      <td>0.000000</td>\n",
       "      <td>0.007812</td>\n",
       "      <td>0.006014</td>\n",
       "      <td>0.004180</td>\n",
       "      <td>0.003538</td>\n",
       "      <td>...</td>\n",
       "      <td>NaN</td>\n",
       "      <td>NaN</td>\n",
       "      <td>NaN</td>\n",
       "      <td>NaN</td>\n",
       "      <td>NaN</td>\n",
       "      <td>None</td>\n",
       "      <td>b'\\x01\\x01\\x00\\x00\\x00/\\xdd$\\x06\\x81\\xa5!\\xc0\\...</td>\n",
       "      <td>1464592140000000000</td>\n",
       "      <td>0</td>\n",
       "      <td>True</td>\n",
       "    </tr>\n",
       "  </tbody>\n",
       "</table>\n",
       "<p>5 rows × 382 columns</p>\n",
       "</div>"
      ],
      "text/plain": [
       "                                       dt        lat       lon        t  \\\n",
       "utc_dt                                                                    \n",
       "2016-05-30 07:05:00  30-May-2016 07:05:00  45.673750 -8.814967  15.5537   \n",
       "2016-05-30 07:06:00  30-May-2016 07:06:00  45.672600 -8.816917  15.5490   \n",
       "2016-05-30 07:07:00  30-May-2016 07:07:00  45.671500 -8.819000  15.5370   \n",
       "2016-05-30 07:08:00  30-May-2016 07:08:00  45.670400 -8.821117  15.5385   \n",
       "2016-05-30 07:09:00  30-May-2016 07:09:00  45.669383 -8.823250  15.5483   \n",
       "\n",
       "                           s  ad_model400  agaus406  agaus434  agaus453  \\\n",
       "utc_dt                                                                    \n",
       "2016-05-30 07:05:00  35.5332     0.000000  0.007691  0.005692  0.004222   \n",
       "2016-05-30 07:06:00  35.5332     0.000817  0.006569  0.005500  0.003743   \n",
       "2016-05-30 07:07:00  35.5330     0.000000  0.008018  0.005824  0.004188   \n",
       "2016-05-30 07:08:00  35.5330     0.000000  0.008432  0.006026  0.004189   \n",
       "2016-05-30 07:09:00  35.5329     0.000000  0.007812  0.006014  0.004180   \n",
       "\n",
       "                     agaus470  ...  hbb_bbp_25  hbb_bbp_26  hbb_bbp_27  \\\n",
       "utc_dt                         ...                                       \n",
       "2016-05-30 07:05:00  0.003370  ...         NaN         NaN         NaN   \n",
       "2016-05-30 07:06:00  0.003245  ...         NaN         NaN         NaN   \n",
       "2016-05-30 07:07:00  0.003485  ...         NaN         NaN         NaN   \n",
       "2016-05-30 07:08:00  0.003642  ...         NaN         NaN         NaN   \n",
       "2016-05-30 07:09:00  0.003538  ...         NaN         NaN         NaN   \n",
       "\n",
       "                     hbb_bbp_28  fdom_sd  fdom_sensor  \\\n",
       "utc_dt                                                  \n",
       "2016-05-30 07:05:00         NaN      NaN         None   \n",
       "2016-05-30 07:06:00         NaN      NaN         None   \n",
       "2016-05-30 07:07:00         NaN      NaN         None   \n",
       "2016-05-30 07:08:00         NaN      NaN         None   \n",
       "2016-05-30 07:09:00         NaN      NaN         None   \n",
       "\n",
       "                                                              geometry  \\\n",
       "utc_dt                                                                   \n",
       "2016-05-30 07:05:00  b'\\x01\\x01\\x00\\x00\\x00K\\xd9\\x9bOC\\xa1!\\xc0\\xe1...   \n",
       "2016-05-30 07:06:00  b'\\x01\\x01\\x00\\x00\\x00 b\\xbf\\xe6B\\xa2!\\xc0\\xeb...   \n",
       "2016-05-30 07:07:00  b'\\x01\\x01\\x00\\x00\\x00$y\\xd2\\xf7S\\xa3!\\xc0;)E\\...   \n",
       "2016-05-30 07:08:00  b'\\x01\\x01\\x00\\x00\\x00X\\x9a]gi\\xa4!\\xc0*Q\\xcd\\...   \n",
       "2016-05-30 07:09:00  b'\\x01\\x01\\x00\\x00\\x00/\\xdd$\\x06\\x81\\xa5!\\xc0\\...   \n",
       "\n",
       "                                     uid  mission_id  passes_flags  \n",
       "utc_dt                                                              \n",
       "2016-05-30 07:05:00  1464591900000000000           0          True  \n",
       "2016-05-30 07:06:00  1464591960000000000           0          True  \n",
       "2016-05-30 07:07:00  1464592020000000000           0          True  \n",
       "2016-05-30 07:08:00  1464592080000000000           0          True  \n",
       "2016-05-30 07:09:00  1464592140000000000           0          True  \n",
       "\n",
       "[5 rows x 382 columns]"
      ]
     },
     "execution_count": 14,
     "metadata": {},
     "output_type": "execute_result"
    }
   ],
   "source": [
    "tara_df.head()"
   ]
  },
  {
   "cell_type": "markdown",
   "id": "ceee18a2-e229-4e9b-a75c-0b5868be5d0c",
   "metadata": {},
   "source": [
    "# Match up"
   ]
  },
  {
   "cell_type": "code",
   "execution_count": 13,
   "id": "db08d995-d995-425f-bfe9-127130f8e9ca",
   "metadata": {},
   "outputs": [],
   "source": [
    "mid = cat_utils.match_ids(d_tara['UID'], tara_df.uid.values, require_in_match=True)"
   ]
  },
  {
   "cell_type": "markdown",
   "id": "0d6400c9-6ae9-4c45-9d3b-272c4d3511a2",
   "metadata": {},
   "source": [
    "# New table"
   ]
  },
  {
   "cell_type": "code",
   "execution_count": 21,
   "id": "4ac00132-d406-4bc4-808a-49d2f9773513",
   "metadata": {},
   "outputs": [],
   "source": [
    "df = pandas.DataFrame()\n",
    "# meta\n",
    "df['uid'] = tara_df.uid.values[mid]\n",
    "df['lat'] = tara_df.lat.values[mid]\n",
    "df['lon'] = tara_df.lon.values[mid]\n",
    "df['t'] = tara_df.t.values[mid]\n",
    "df['s'] = tara_df.s.values[mid]\n",
    "\n",
    "# Coefficients\n",
    "df['H1'] = d_tara['coeff'][:,0]\n",
    "df['H2'] = d_tara['coeff'][:,1]\n",
    "df['H3'] = d_tara['coeff'][:,2]\n",
    "#"
   ]
  },
  {
   "cell_type": "markdown",
   "id": "edc83c16-466a-4348-9572-5763374f0394",
   "metadata": {},
   "source": [
    "## Write"
   ]
  },
  {
   "cell_type": "code",
   "execution_count": 22,
   "id": "75df2aca-4030-488f-ad04-e86792849116",
   "metadata": {},
   "outputs": [],
   "source": [
    "df.to_csv('tara_coeffs_for_oskar.csv', index=False)"
   ]
  },
  {
   "cell_type": "code",
   "execution_count": null,
   "id": "332bde8a-5a2c-4054-9eb5-e419f8c66675",
   "metadata": {},
   "outputs": [],
   "source": []
  }
 ],
 "metadata": {
  "kernelspec": {
   "display_name": "Python 3 (ipykernel)",
   "language": "python",
   "name": "python3"
  },
  "language_info": {
   "codemirror_mode": {
    "name": "ipython",
    "version": 3
   },
   "file_extension": ".py",
   "mimetype": "text/x-python",
   "name": "python",
   "nbconvert_exporter": "python",
   "pygments_lexer": "ipython3",
   "version": "3.11.6"
  }
 },
 "nbformat": 4,
 "nbformat_minor": 5
}
