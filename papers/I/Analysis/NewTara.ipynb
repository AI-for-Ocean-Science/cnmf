{
 "cells": [
  {
   "cell_type": "markdown",
   "id": "43d7ce07-28d9-4c24-a8fc-d7e66c055130",
   "metadata": {},
   "source": [
    "# Tara dataset"
   ]
  },
  {
   "cell_type": "code",
   "execution_count": 1,
   "id": "d11c4374-47a2-4893-8829-7d19503ec641",
   "metadata": {},
   "outputs": [],
   "source": [
    "# imports\n",
    "from importlib import reload\n",
    "\n",
    "import matplotlib.pyplot as plt\n",
    "import numpy as np\n",
    "from datetime import datetime, time\n",
    "#import random \n",
    "\n",
    "import pandas\n",
    "\n",
    "from oceancolor.tara import io as tara_io\n",
    "\n",
    "from cnmf.oceanography import iops"
   ]
  },
  {
   "cell_type": "markdown",
   "id": "50303cf8-076f-4148-9c85-008621275e33",
   "metadata": {},
   "source": [
    "# Load up"
   ]
  },
  {
   "cell_type": "code",
   "execution_count": 5,
   "id": "705e0afd-7917-428f-9652-4a8bc69417e7",
   "metadata": {},
   "outputs": [],
   "source": [
    "tara = tara_io.load_pg_db()"
   ]
  },
  {
   "cell_type": "markdown",
   "id": "8e687bc1-2c4d-4cba-84dc-76db821ffef4",
   "metadata": {},
   "source": [
    "# Explore a bit"
   ]
  },
  {
   "cell_type": "code",
   "execution_count": 7,
   "id": "b2473796-f813-4700-b870-f0acc908178d",
   "metadata": {},
   "outputs": [
    {
     "data": {
      "text/plain": [
       "dt                                         30-May-2016 07:05:00\n",
       "lat                                                    45.67375\n",
       "lon                                                   -8.814967\n",
       "t                                                       15.5537\n",
       "s                                                       35.5332\n",
       "                                    ...                        \n",
       "hbb_bbp_25                                                  NaN\n",
       "hbb_bbp_26                                                  NaN\n",
       "hbb_bbp_27                                                  NaN\n",
       "hbb_bbp_28                                                  NaN\n",
       "geometry      b'\\x01\\x01\\x00\\x00\\x00K\\xd9\\x9bOC\\xa1!\\xc0\\xe1...\n",
       "Name: 2016-05-30 07:05:00, Length: 391, dtype: object"
      ]
     },
     "execution_count": 7,
     "metadata": {},
     "output_type": "execute_result"
    }
   ],
   "source": [
    "tara.iloc[0]"
   ]
  },
  {
   "cell_type": "code",
   "execution_count": 6,
   "id": "e933b12b-06af-4e78-ad22-2d1171dded66",
   "metadata": {},
   "outputs": [
    {
     "data": {
      "text/plain": [
       "array(['dt', 'lat', 'lon', 't', 's', 'ad_model400', 'agaus406',\n",
       "       'agaus434', 'agaus453', 'agaus470', 'agaus492', 'agaus523',\n",
       "       'agaus550', 'agaus584', 'agaus617', 'agaus638', 'agaus660',\n",
       "       'agaus675', 'agaus-mae', 'POC_cp', 'ap676_lh', 'Chl_lineheight',\n",
       "       'cp_gamma', 'Halh', 'chl_Halh', 'HH_G50', 'HH_mphi', 'flag_bit',\n",
       "       'ap_n', 'cp_n', 'POC_chl_ratio', 'gamma_chl_ratio',\n",
       "       'Chl_lineheight_old_coef', 'chl_Halh_old_coef', 'Chlac_agaus406',\n",
       "       'Chla_agaus434', 'Chlbc_weighted_agaus453', 'Chlb_agaus470',\n",
       "       'PPC_agaus492', 'PSC_agaus523', 'Chlc_agaus584', 'Chla_agaus617',\n",
       "       'Chlc_agaus638', 'Chlb_agaus660', 'Chla_agaus675', 'datetime',\n",
       "       'acs_num', 'ap408.5', 'ap411.9', 'ap415.3', 'ap419.2', 'ap423.5',\n",
       "       'ap427.6', 'ap431.5', 'ap435.7', 'ap439.3', 'ap443.5', 'ap447.9',\n",
       "       'ap452.7', 'ap457.1', 'ap461', 'ap465.4', 'ap469.8', 'ap474.3',\n",
       "       'ap479', 'ap483.8', 'ap488.1', 'ap492.3', 'ap496.5', 'ap500.8',\n",
       "       'ap505.4', 'ap509.9', 'ap514.7', 'ap519', 'ap523.7', 'ap528',\n",
       "       'ap532', 'ap536.1', 'ap540.4', 'ap544.5', 'ap549.2', 'ap553.3',\n",
       "       'ap557.5', 'ap561.6', 'ap565.9', 'ap570', 'ap573.7', 'ap577.5',\n",
       "       'ap582.5', 'ap586.6', 'ap590.7', 'ap594.9', 'ap599.3', 'ap603.6',\n",
       "       'ap608', 'ap612.3', 'ap616.9', 'ap621.2', 'ap625.5', 'ap629.7',\n",
       "       'ap633.9', 'ap638.2', 'ap642.3', 'ap646.6', 'ap650.9', 'ap655.5',\n",
       "       'ap659.8', 'ap664.1', 'ap668.5', 'ap672.6', 'ap676.8', 'ap680.9',\n",
       "       'ap685', 'ap689', 'ap692.9', 'ap696.6', 'ap700.5', 'ap704.2',\n",
       "       'ap707.9', 'ap712', 'ap715.5', 'ap719.3', 'ap723', 'ap726.7',\n",
       "       'ap730', 'ap408.5_sd', 'ap411.9_sd', 'ap415.3_sd', 'ap419.2_sd',\n",
       "       'ap423.5_sd', 'ap427.6_sd', 'ap431.5_sd', 'ap435.7_sd',\n",
       "       'ap439.3_sd', 'ap443.5_sd', 'ap447.9_sd', 'ap452.7_sd',\n",
       "       'ap457.1_sd', 'ap461.0_sd', 'ap465.4_sd', 'ap469.8_sd',\n",
       "       'ap474.3_sd', 'ap479.0_sd', 'ap483.8_sd', 'ap488.1_sd',\n",
       "       'ap492.3_sd', 'ap496.5_sd', 'ap500.8_sd', 'ap505.4_sd',\n",
       "       'ap509.9_sd', 'ap514.7_sd', 'ap519.0_sd', 'ap523.7_sd',\n",
       "       'ap528.0_sd', 'ap532.0_sd', 'ap536.1_sd', 'ap540.4_sd',\n",
       "       'ap544.5_sd', 'ap549.2_sd', 'ap553.3_sd', 'ap557.5_sd',\n",
       "       'ap561.6_sd', 'ap565.9_sd', 'ap570.0_sd', 'ap573.7_sd',\n",
       "       'ap577.5_sd', 'ap582.5_sd', 'ap586.6_sd', 'ap590.7_sd',\n",
       "       'ap594.9_sd', 'ap599.3_sd', 'ap603.6_sd', 'ap608.0_sd',\n",
       "       'ap612.3_sd', 'ap616.9_sd', 'ap621.2_sd', 'ap625.5_sd',\n",
       "       'ap629.7_sd', 'ap633.9_sd', 'ap638.2_sd', 'ap642.3_sd',\n",
       "       'ap646.6_sd', 'ap650.9_sd', 'ap655.5_sd', 'ap659.8_sd',\n",
       "       'ap664.1_sd', 'ap668.5_sd', 'ap672.6_sd', 'ap676.8_sd',\n",
       "       'ap680.9_sd', 'ap685.0_sd', 'ap689.0_sd', 'ap692.9_sd',\n",
       "       'ap696.6_sd', 'ap700.5_sd', 'ap704.2_sd', 'ap707.9_sd',\n",
       "       'ap712.0_sd', 'ap715.5_sd', 'ap719.3_sd', 'ap723.0_sd',\n",
       "       'ap726.7_sd', 'ap730.0_sd', 'cp408.5', 'cp411.9', 'cp415.3',\n",
       "       'cp419.2', 'cp423.5', 'cp427.6', 'cp431.5', 'cp435.7', 'cp439.3',\n",
       "       'cp443.5', 'cp447.9', 'cp452.7', 'cp457.1', 'cp461.0', 'cp465.4',\n",
       "       'cp469.8', 'cp474.3', 'cp479.0', 'cp483.8', 'cp488.1', 'cp492.3',\n",
       "       'cp496.5', 'cp500.8', 'cp505.4', 'cp509.9', 'cp514.7', 'cp519.0',\n",
       "       'cp523.7', 'cp528.0', 'cp532.0', 'cp536.1', 'cp540.4', 'cp544.5',\n",
       "       'cp549.2', 'cp553.3', 'cp557.5', 'cp561.6', 'cp565.9', 'cp570.0',\n",
       "       'cp573.7', 'cp577.5', 'cp582.5', 'cp586.6', 'cp590.7', 'cp594.9',\n",
       "       'cp599.3', 'cp603.6', 'cp608.0', 'cp612.3', 'cp616.9', 'cp621.2',\n",
       "       'cp625.5', 'cp629.7', 'cp633.9', 'cp638.2', 'cp642.3', 'cp646.6',\n",
       "       'cp650.9', 'cp655.5', 'cp659.8', 'cp664.1', 'cp668.5', 'cp672.6',\n",
       "       'cp676.8', 'cp680.9', 'cp685.0', 'cp689.0', 'cp692.9', 'cp696.6',\n",
       "       'cp700.5', 'cp704.2', 'cp707.9', 'cp712.0', 'cp715.5', 'cp719.3',\n",
       "       'cp723.0', 'cp726.7', 'cp730.0', 'cp408.5_sd', 'cp411.9_sd',\n",
       "       'cp415.3_sd', 'cp419.2_sd', 'cp423.5_sd', 'cp427.6_sd',\n",
       "       'cp431.5_sd', 'cp435.7_sd', 'cp439.3_sd', 'cp443.5_sd',\n",
       "       'cp447.9_sd', 'cp452.7_sd', 'cp457.1_sd', 'cp461.0_sd',\n",
       "       'cp465.4_sd', 'cp469.8_sd', 'cp474.3_sd', 'cp479.0_sd',\n",
       "       'cp483.8_sd', 'cp488.1_sd', 'cp492.3_sd', 'cp496.5_sd',\n",
       "       'cp500.8_sd', 'cp505.4_sd', 'cp509.9_sd', 'cp514.7_sd',\n",
       "       'cp519.0_sd', 'cp523.7_sd', 'cp528.0_sd', 'cp532.0_sd',\n",
       "       'cp536.1_sd', 'cp540.4_sd', 'cp544.5_sd', 'cp549.2_sd',\n",
       "       'cp553.3_sd', 'cp557.5_sd', 'cp561.6_sd', 'cp565.9_sd',\n",
       "       'cp570.0_sd', 'cp573.7_sd', 'cp577.5_sd', 'cp582.5_sd',\n",
       "       'cp586.6_sd', 'cp590.7_sd', 'cp594.9_sd', 'cp599.3_sd',\n",
       "       'cp603.6_sd', 'cp608.0_sd', 'cp612.3_sd', 'cp616.9_sd',\n",
       "       'cp621.2_sd', 'cp625.5_sd', 'cp629.7_sd', 'cp633.9_sd',\n",
       "       'cp638.2_sd', 'cp642.3_sd', 'cp646.6_sd', 'cp650.9_sd',\n",
       "       'cp655.5_sd', 'cp659.8_sd', 'cp664.1_sd', 'cp668.5_sd',\n",
       "       'cp672.6_sd', 'cp676.8_sd', 'cp680.9_sd', 'cp685.0_sd',\n",
       "       'cp689.0_sd', 'cp692.9_sd', 'cp696.6_sd', 'cp700.5_sd',\n",
       "       'cp704.2_sd', 'cp707.9_sd', 'cp712.0_sd', 'cp715.5_sd',\n",
       "       'cp719.3_sd', 'cp723.0_sd', 'cp726.7_sd', 'cp730.0_sd', 'bbp_1',\n",
       "       'bbp_2', 'bbp_3', 'hbb_bbp_1', 'hbb_bbp_2', 'hbb_bbp_3',\n",
       "       'hbb_bbp_4', 'hbb_bbp_5', 'hbb_bbp_6', 'hbb_bbp_7', 'hbb_bbp_8',\n",
       "       'hbb_bbp_9', 'hbb_bbp_10', 'hbb_bbp_11', 'hbb_bbp_12',\n",
       "       'hbb_bbp_13', 'hbb_bbp_14', 'hbb_bbp_15', 'hbb_bbp_16',\n",
       "       'hbb_bbp_17', 'hbb_bbp_18', 'hbb_bbp_19', 'hbb_bbp_20',\n",
       "       'hbb_bbp_21', 'hbb_bbp_22', 'hbb_bbp_23', 'hbb_bbp_24',\n",
       "       'hbb_bbp_25', 'hbb_bbp_26', 'hbb_bbp_27', 'hbb_bbp_28', 'geometry'],\n",
       "      dtype=object)"
      ]
     },
     "execution_count": 6,
     "metadata": {},
     "output_type": "execute_result"
    }
   ],
   "source": [
    "np.array(tara.keys())"
   ]
  },
  {
   "cell_type": "markdown",
   "id": "94f1fdb2-9ceb-45c3-9edc-3d1968c5c460",
   "metadata": {},
   "source": [
    "## Dates"
   ]
  },
  {
   "cell_type": "code",
   "execution_count": 15,
   "id": "f3cf6023-731f-4939-b1d7-325755e9b67d",
   "metadata": {},
   "outputs": [
    {
     "data": {
      "text/plain": [
       "array([datetime.date(2016, 5, 30), datetime.date(2016, 5, 30),\n",
       "       datetime.date(2016, 5, 30), ..., datetime.date(2022, 7, 7),\n",
       "       datetime.date(2022, 7, 7), datetime.date(2022, 7, 7)], dtype=object)"
      ]
     },
     "execution_count": 15,
     "metadata": {},
     "output_type": "execute_result"
    }
   ],
   "source": [
    "tara.index.date"
   ]
  },
  {
   "cell_type": "code",
   "execution_count": 16,
   "id": "94861a37-1117-4ab9-a837-fe4b6a667dd9",
   "metadata": {},
   "outputs": [
    {
     "data": {
      "image/png": "[encoded data removed]",
      "text/plain": [
       "<Figure size 640x480 with 1 Axes>"
      ]
     },
     "metadata": {},
     "output_type": "display_data"
    }
   ],
   "source": [
    "# Create the scatter plot\n",
    "times = tara.index.time\n",
    "fig, ax = plt.subplots()\n",
    "ax.scatter(range(len(times)), tara.index)\n",
    "\n",
    "# Format the plot\n",
    "ax.set_xlabel('Sample')\n",
    "ax.set_ylabel('Time')\n",
    "ax.set_title('Scatter Plot of Time Values')\n",
    "ax.grid(True)\n",
    "\n",
    "plt.show()"
   ]
  },
  {
   "cell_type": "markdown",
   "id": "5559c120-52cf-45da-937e-bbb50d79a17e",
   "metadata": {},
   "source": [
    "# Patrick says take those after 2020"
   ]
  },
  {
   "cell_type": "code",
   "execution_count": 18,
   "id": "620a39a3-f9b0-4593-be0c-50a4aa636805",
   "metadata": {},
   "outputs": [],
   "source": [
    "keep = tara.index > pandas.Timestamp(2020,1,1)"
   ]
  },
  {
   "cell_type": "code",
   "execution_count": 21,
   "id": "0957c585-e956-4c13-a868-4b7f114dc74b",
   "metadata": {},
   "outputs": [
    {
     "data": {
      "text/plain": [
       "326682"
      ]
     },
     "execution_count": 21,
     "metadata": {},
     "output_type": "execute_result"
    }
   ],
   "source": [
    "np.sum(keep)"
   ]
  },
  {
   "cell_type": "code",
   "execution_count": 22,
   "id": "618ce46c-1e87-411b-ae7e-900420daaede",
   "metadata": {},
   "outputs": [
    {
     "data": {
      "text/plain": [
       "759418"
      ]
     },
     "execution_count": 22,
     "metadata": {},
     "output_type": "execute_result"
    }
   ],
   "source": [
    "len(tara)"
   ]
  },
  {
   "cell_type": "code",
   "execution_count": 23,
   "id": "99c46a59-df98-4993-be6b-b0b837eb4581",
   "metadata": {},
   "outputs": [],
   "source": [
    "tara = tara[keep]"
   ]
  },
  {
   "cell_type": "markdown",
   "id": "eb44b93a-98c2-4bc8-898c-6333550fe3ff",
   "metadata": {},
   "source": [
    "# Prep for NMF"
   ]
  },
  {
   "cell_type": "code",
   "execution_count": null,
   "id": "0fe21081-f7a1-4e3d-86ca-f385d5319094",
   "metadata": {},
   "outputs": [
    {
     "name": "stdout",
     "output_type": "stream",
     "text": [
      "Loading Tara..\n",
      "Python 3.11.6 | packaged by conda-forge | (main, Oct  3 2023, 10:40:35) [GCC 12.3.0]\n",
      "Type 'copyright', 'credits' or 'license' for more information\n",
      "IPython 8.18.1 -- An enhanced Interactive Python. Type '?' for help.\n",
      "\n",
      "\n",
      "spectra.py:parse_wavelengths 30\n",
      "\n"
     ]
    },
    {
     "name": "stdin",
     "output_type": "stream",
     "text": [
      "In [1]:  key\n"
     ]
    },
    {
     "name": "stdout",
     "output_type": "stream",
     "text": [
      "Out[1]: 'ap676_lh'\n",
      "\n"
     ]
    }
   ],
   "source": [
    "reload(iops)\n",
    "tara = iops.tara_matched_to_l23()"
   ]
  },
  {
   "cell_type": "code",
   "execution_count": null,
   "id": "c1183915-0e82-4e6d-962b-9de5022867e6",
   "metadata": {},
   "outputs": [],
   "source": []
  }
 ],
 "metadata": {
  "kernelspec": {
   "display_name": "Python 3 (ipykernel)",
   "language": "python",
   "name": "python3"
  },
  "language_info": {
   "codemirror_mode": {
    "name": "ipython",
    "version": 3
   },
   "file_extension": ".py",
   "mimetype": "text/x-python",
   "name": "python",
   "nbconvert_exporter": "python",
   "pygments_lexer": "ipython3",
   "version": "3.11.6"
  }
 },
 "nbformat": 4,
 "nbformat_minor": 5
}
